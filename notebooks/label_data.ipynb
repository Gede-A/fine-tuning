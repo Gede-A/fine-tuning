{
 "cells": [
  {
   "cell_type": "code",
   "execution_count": 6,
   "id": "51884da7-5d9a-4982-a816-6723bf1046a4",
   "metadata": {},
   "outputs": [
    {
     "name": "stdout",
     "output_type": "stream",
     "text": [
      "0      ['ተገጣጣሚዎቹን', 'የእንጨት', 'ብሎኮች', 'ከመነሻዬ', 'ሲሸምቱ',...\n",
      "1      ['ስለ', 'ህዋ', 'ሳይንስ', 'የሚያስተምሩ', 'ትምህርታዊ', 'መጫዎ...\n",
      "2      ['የካሪስማ', 'ደስታ', 'በመነሻዬ', 'መነሻዬ', 'ለልጆች', 'የሚሆ...\n",
      "3      ['አና', 'ደስታዋ', 'እጥፍ', 'ድርብ', 'ሆኗል', 'ያለምንም', '...\n",
      "4      ['ውድ', 'ደንበኞቻችን', 'ከዚህ', 'በታች', 'ያስቀመጥንልዎ', 'ለ...\n",
      "                             ...                        \n",
      "723    ['ስለ', 'ልጆዎ', 'ግድ', 'ስለሚለን', 'የምናገለግሎ', 'በእውቀት...\n",
      "724    ['መነሻዬ', 'ትምህርታዊ', 'መጫወቻዎችን', 'የሚያገኙበት', 'ምርጥ'...\n",
      "725                             ['መነሻዬ', 'በክብር', 'ተከፈተ']\n",
      "726    ['መነሻዬ', 'ዋጋ', 'ብር', 'መነሻዬ', 'የልጆች', 'መማርያ', '...\n",
      "727    ['መነሻዬ', 'ዋጋ', 'ብር', 'ከድንጋይ', 'በተሰራ', 'ወረቀት', ...\n",
      "Name: processed_message, Length: 728, dtype: object\n"
     ]
    }
   ],
   "source": [
    "import pandas as pd\n",
    "data = pd.read_csv('../data/scraped_data.csv()')\n",
    "framed_data = pd.DataFrame(data)\n",
    "print(framed_data['processed_message'])"
   ]
  },
  {
   "cell_type": "code",
   "execution_count": 1,
   "id": "f571c5ad-1453-40fa-9bf4-f56fc425dee4",
   "metadata": {},
   "outputs": [],
   "source": [
    "lables = labels = ['B-LANGUAGE', 'B-LANGUAGE', 'B-PERSON', 'I-PERSON', 'B-ORG', 'B-EVENT', 'B-LOC', 'B-LOC', 'B-FAMILY', 'B-ORG', 'B-DATE', 'I-DATE', 'B-ORG', 'B-GENDER', 'B-GENDER', 'B-PERSON', 'B-ORG', 'B-ORG', 'B-QUANTITY', 'B-MONEY', 'B-MONEY', 'B-ORG', 'B-ORG', 'B-PERCENT', 'B-DATE', 'B-DATE', 'B-EVENT', 'B-ORG', 'B-ORG', 'B-PERSON', 'B-QUANTITY', 'B-ORG', 'B-QUANTITY', 'B-DATE', 'B-LOC', 'B-EVENT', 'B-LOC', 'B-LOC', 'B-EVENT', 'B-LOC', 'B-DATE', 'B-ORG', 'B-ORG', 'B-QUANTITY', 'B-MONEY', 'B-ORG', 'B-DATE', 'B-DATE', 'B-DATE', 'B-LOC', 'B-QUANTITY', 'B-QUANTITY']\n",
    "\n",
    "data = data = data = ['አማርኛ', 'እንግሊዝኛ', 'ዮና', 'ስም', 'የውሃ አሳይ', 'የዓለም ጨዋታ', 'ግርግር', 'ኢትዮጵያ', 'ቤተሰብ', 'ኦርቶዶካስ', 'ዕለት', 'እንቅስቃሴ', 'ወንድ', 'ሴት', 'ደቂቀ ንጉስ', 'ማዕከል', 'ወንዌል', 'በሉቀ', '20', 'ኪሎ', 'ገንዘብ', '500', 'ማቅረብ', 'እንቁላል', 'ወታደር', 'ወታደርነት', 'ዋጋ', '50', '%', 'ሰንበት', 'ተማሪ', 'እንቁላል', 'የቅዱስ ወይዘር', 'አምላክ', 'ዓለም', 'ነገ', 'ታሪክ', 'ምን', 'ዓለም', 'ወቅታዊ', 'ጉብኝት', 'ተወካይ', 'አሰባሳት', 'ደህንነት', 'አሳያ', 'እረፍታ', 'ወገን', 'ግንባር', 'አቅም', 'ሂወት']\n",
    "# Define the file path\n",
    "filepath = '../data/labled.txt'\n",
    "# Open the file in write mode with UTF-8 encoding\n",
    "with open(filepath, 'w', encoding='utf-8') as labeled_data:\n",
    "    for label, entity in zip(labels, data):\n",
    "        labeled_data.write(f\"{entity} → {label}\\n\")  # Write each entity and label pair to the file\n",
    "\n",
    "    "
   ]
  },
  {
   "cell_type": "code",
   "execution_count": null,
   "id": "3548569c-00ea-4601-b769-3d61b937bf9a",
   "metadata": {},
   "outputs": [],
   "source": []
  }
 ],
 "metadata": {
  "kernelspec": {
   "display_name": "Python 3 (ipykernel)",
   "language": "python",
   "name": "python3"
  },
  "language_info": {
   "codemirror_mode": {
    "name": "ipython",
    "version": 3
   },
   "file_extension": ".py",
   "mimetype": "text/x-python",
   "name": "python",
   "nbconvert_exporter": "python",
   "pygments_lexer": "ipython3",
   "version": "3.12.6"
  }
 },
 "nbformat": 4,
 "nbformat_minor": 5
}
