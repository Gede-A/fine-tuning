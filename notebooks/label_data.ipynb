{
 "cells": [
  {
   "cell_type": "code",
   "execution_count": 6,
   "id": "51884da7-5d9a-4982-a816-6723bf1046a4",
   "metadata": {},
   "outputs": [
    {
     "name": "stdout",
     "output_type": "stream",
     "text": [
      "0      ['ተገጣጣሚዎቹን', 'የእንጨት', 'ብሎኮች', 'ከመነሻዬ', 'ሲሸምቱ',...\n",
      "1      ['ስለ', 'ህዋ', 'ሳይንስ', 'የሚያስተምሩ', 'ትምህርታዊ', 'መጫዎ...\n",
      "2      ['የካሪስማ', 'ደስታ', 'በመነሻዬ', 'መነሻዬ', 'ለልጆች', 'የሚሆ...\n",
      "3      ['አና', 'ደስታዋ', 'እጥፍ', 'ድርብ', 'ሆኗል', 'ያለምንም', '...\n",
      "4      ['ውድ', 'ደንበኞቻችን', 'ከዚህ', 'በታች', 'ያስቀመጥንልዎ', 'ለ...\n",
      "                             ...                        \n",
      "723    ['ስለ', 'ልጆዎ', 'ግድ', 'ስለሚለን', 'የምናገለግሎ', 'በእውቀት...\n",
      "724    ['መነሻዬ', 'ትምህርታዊ', 'መጫወቻዎችን', 'የሚያገኙበት', 'ምርጥ'...\n",
      "725                             ['መነሻዬ', 'በክብር', 'ተከፈተ']\n",
      "726    ['መነሻዬ', 'ዋጋ', 'ብር', 'መነሻዬ', 'የልጆች', 'መማርያ', '...\n",
      "727    ['መነሻዬ', 'ዋጋ', 'ብር', 'ከድንጋይ', 'በተሰራ', 'ወረቀት', ...\n",
      "Name: processed_message, Length: 728, dtype: object\n"
     ]
    }
   ],
   "source": [
    "import pandas as pd\n",
    "data = pd.read_csv('../data/scraped_data.csv()')\n",
    "framed_data = pd.DataFrame(data)\n",
    "print(framed_data['processed_message'])"
   ]
  },
  {
   "cell_type": "code",
   "execution_count": 4,
   "id": "f571c5ad-1453-40fa-9bf4-f56fc425dee4",
   "metadata": {},
   "outputs": [],
   "source": [
    "lables = ['B-LANGUAGE', 'B-LANGUAGE', 'B-PERSON', 'I-PERSON', 'B-ORG', 'B-EVENT', 'B-LOC', 'B-LOC', 'B-FAMILY', 'B-ORG', 'B-DATE', 'I-DATE', 'B-ORG', 'B-GENDER', 'B-GENDER', 'B-PERSON', 'B-ORG', 'B-ORG', 'B-QUANTITY', 'B-MONEY', 'B-MONEY', 'B-ORG', 'B-ORG', 'B-PERCENT', 'B-DATE', 'B-DATE', 'B-EVENT', 'B-ORG', 'B-ORG', 'B-PERSON', 'B-QUANTITY', 'B-ORG', 'B-QUANTITY', 'B-DATE', 'B-LOC', 'B-EVENT', 'B-LOC', 'B-LOC', 'B-EVENT', 'B-LOC', 'B-DATE', 'B-ORG', 'B-ORG', 'B-QUANTITY', 'B-MONEY', 'B-ORG', 'B-DATE', 'B-DATE', 'B-DATE', 'B-LOC', 'B-QUANTITY', 'B-QUANTITY']\n",
    "\n",
    "entity = ['አማርኛ', 'እንግሊዝኛ', 'ዮና', 'ስም', 'የውሃ አሳይ', 'የዓለም ጨዋታ', 'ግርግር', 'ኢትዮጵያ', 'ቤተሰብ', 'ኦርቶዶካስ', 'ዕለት', 'እንቅስቃሴ', 'ወንድ', 'ሴት', 'ደቂቀ ንጉስ', 'ማዕከል', 'ወንዌል', 'በሉቀ', '20', 'ኪሎ', 'ገንዘብ', '500', 'ማቅረብ', 'እንቁላል', 'ወታደር', 'ወታደርነት', 'ዋጋ', '50', '%', 'ሰንበት', 'ተማሪ', 'እንቁላል', 'የቅዱስ ወይዘር', 'አምላክ', 'ዓለም', 'ነገ', 'ታሪክ', 'ምን', 'ዓለም', 'ወቅታዊ', 'ጉብኝት', 'ተወካይ', 'አሰባሳት', 'ደህንነት', 'አሳያ', 'እረፍታ', 'ወገን', 'ግንባር', 'አቅም', 'ሂወት']\n",
    "# Define the file path\n",
    "filepath = '../data/labled.csv'\n",
    "# Open the file in write mode with UTF-8 encoding\n",
    "with open(filepath, 'w', encoding='utf-8') as labeled_data:\n",
    "    for label, entity in zip(labels, data):\n",
    "        labeled_data.write(f\"{entity} ':' {label}\\n\")  # Write each entity and label pair to the file\n",
    "\n",
    "    "
   ]
  },
  {
   "cell_type": "code",
   "execution_count": 3,
   "id": "c0ec6602-1146-4f78-95da-8e41f0b6d312",
   "metadata": {},
   "outputs": [
    {
     "name": "stderr",
     "output_type": "stream",
     "text": [
      "C:\\Users\\User\\AppData\\Local\\Temp\\ipykernel_20864\\2198699402.py:64: FutureWarning: Series.__getitem__ treating keys as positions is deprecated. In a future version, integer keys will always be treated as labels (consistent with DataFrame behavior). To access a value by position, use `ser.iloc[pos]`\n",
      "  tokens = eval(row[0])  # Convert string list back to Python list\n"
     ]
    },
    {
     "name": "stdout",
     "output_type": "stream",
     "text": [
      "Labeled data saved successfully!\n"
     ]
    }
   ],
   "source": [
    "# Import necessary libraries\n",
    "import pandas as pd\n",
    "\n",
    "# Load the tokenized data from the CSV file\n",
    "filepath = '../data/scraped_data.csv()'\n",
    "tokenized_data_frame = pd.read_csv(filepath)\n",
    "\n",
    "# Define the labeling function using if...else\n",
    "def label_token(token):\n",
    "    if token == \"ተገጣጣሚዎቹን\":\n",
    "        return \"O\"\n",
    "    elif token == \"ትምህርታዊ\":\n",
    "        return \"O\"\n",
    "    elif token == \"መጫዎቻዎች\":\n",
    "        return \"B-PRODUCT\"\n",
    "    elif token == \"መሳሪያ\":\n",
    "        return \"I-PRODUCT\"\n",
    "    elif token == \"ውድ\":\n",
    "        return \"B-PERSON\"\n",
    "    elif token == \"ልጆችዎ\":\n",
    "        return \"B-FAMILY\"\n",
    "    elif token == \"አቀፍ ዝናብ\":\n",
    "        return \"B-ORG\"\n",
    "    elif token == \"ይማራሉ\":\n",
    "        return \"B-EVENT\"\n",
    "    elif token == \"አማራጮች\":\n",
    "        return \"B-ORG\"\n",
    "    elif token == \"ተለያዩ\":\n",
    "        return \"B-ORG\"\n",
    "    elif token == \"የሚያገኙበት\":\n",
    "        return \"B-LOC\"\n",
    "    elif token == \"እውነተኛ\":\n",
    "        return \"B-ORG\"\n",
    "    elif token == \"ይደውሉ\":\n",
    "        return \"B-EVENT\"\n",
    "    elif token == \"አድራሻ\":\n",
    "        return \"B-LOC\"\n",
    "    elif token == \"ሆሊ\":\n",
    "        return \"B-LOC\"\n",
    "    elif token == \"ሲቲ\":\n",
    "        return \"B-LOC\"\n",
    "    elif token == \"ደስታ\":\n",
    "        return \"B-EVENT\"\n",
    "    elif token == \"እንደ\":\n",
    "        return \"B-ORG\"\n",
    "    elif token == \"ርዕሰ ጉዞ\":\n",
    "        return \"B-ORG\"\n",
    "    elif token == \"ይጎብኙ\":\n",
    "        return \"B-EVENT\"\n",
    "    else:\n",
    "        return \"O\"  # Default label for out-of-scope tokens\n",
    "\n",
    "# Apply labeling to the tokenized data\n",
    "def label_tokens(tokens):\n",
    "    labeled_tokens = [(token, label_token(token)) for token in tokens]\n",
    "    return labeled_tokens\n",
    "\n",
    "# Create a list to hold labeled data\n",
    "labeled_data = []\n",
    "\n",
    "# Apply the labeling function to each row and expand the results\n",
    "for index, row in tokenized_data_frame.iterrows():\n",
    "    # Assuming the first column contains the tokenized list of words\n",
    "    tokens = eval(row[0])  # Convert string list back to Python list\n",
    "    labeled_tokens = label_tokens(tokens)\n",
    "    labeled_data.extend(labeled_tokens)\n",
    "\n",
    "# Convert to DataFrame for easier saving or further processing\n",
    "labeled_df = pd.DataFrame(labeled_data, columns=['Labeled Data', 'ner_tags'])\n",
    "\n",
    "# Save the labeled data to a CSV file\n",
    "labeled_df.to_csv('../data/labeled_data.csv', index=False)\n",
    "\n",
    "print(\"Labeled data saved successfully!\")\n"
   ]
  },
  {
   "cell_type": "code",
   "execution_count": null,
   "id": "92fc6d88-98c7-4ab4-b4d8-bed999205677",
   "metadata": {},
   "outputs": [],
   "source": []
  }
 ],
 "metadata": {
  "kernelspec": {
   "display_name": "Python 3 (ipykernel)",
   "language": "python",
   "name": "python3"
  },
  "language_info": {
   "codemirror_mode": {
    "name": "ipython",
    "version": 3
   },
   "file_extension": ".py",
   "mimetype": "text/x-python",
   "name": "python",
   "nbconvert_exporter": "python",
   "pygments_lexer": "ipython3",
   "version": "3.12.6"
  }
 },
 "nbformat": 4,
 "nbformat_minor": 5
}
