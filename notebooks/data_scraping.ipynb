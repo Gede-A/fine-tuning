{
 "cells": [
  {
   "cell_type": "code",
   "execution_count": 1,
   "id": "0832c2b2-8d7e-45ae-af08-e0ab2bee6927",
   "metadata": {},
   "outputs": [
    {
     "name": "stdout",
     "output_type": "stream",
     "text": [
      "Requirement already satisfied: pandas in c:\\users\\user\\appdata\\local\\programs\\python\\python312\\lib\\site-packages (2.2.3)\n",
      "Requirement already satisfied: numpy>=1.26.0 in c:\\users\\user\\appdata\\local\\programs\\python\\python312\\lib\\site-packages (from pandas) (1.26.4)\n",
      "Requirement already satisfied: python-dateutil>=2.8.2 in c:\\users\\user\\appdata\\local\\programs\\python\\python312\\lib\\site-packages (from pandas) (2.9.0.post0)\n",
      "Requirement already satisfied: pytz>=2020.1 in c:\\users\\user\\appdata\\local\\programs\\python\\python312\\lib\\site-packages (from pandas) (2024.2)\n",
      "Requirement already satisfied: tzdata>=2022.7 in c:\\users\\user\\appdata\\local\\programs\\python\\python312\\lib\\site-packages (from pandas) (2024.1)\n",
      "Requirement already satisfied: six>=1.5 in c:\\users\\user\\appdata\\local\\programs\\python\\python312\\lib\\site-packages (from python-dateutil>=2.8.2->pandas) (1.16.0)\n",
      "Note: you may need to restart the kernel to use updated packages.\n"
     ]
    }
   ],
   "source": [
    "pip install pandas\n"
   ]
  },
  {
   "cell_type": "code",
   "execution_count": 5,
   "id": "9659fbf0-d1d1-4e0f-ae55-0534f5b1df86",
   "metadata": {},
   "outputs": [
    {
     "name": "stdout",
     "output_type": "stream",
     "text": [
      "                                             message  \\\n",
      "0  ተገጣጣሚዎቹን የእንጨት ብሎኮች ከመነሻዬ ሲሸምቱ ልጆችዎ ያለጥርጥር እየተ...   \n",
      "1  ስለ ህዋ ሳይንስ የሚያስተምሩ ትምህርታዊ መጫዎቻዎችን በተለያዩ አማራጮች ...   \n",
      "2  የካሪስማ ደስታ በመነሻዬ!!\\n\\nመነሻዬ ለልጆች የሚሆኑ ትምህርታዊ መጫዎ...   \n",
      "3  አና በ swing car ደስታዋ እጥፍ ድርብ ሆኗል!!\\n👉 ያለምንም ኤሌክ...   \n",
      "4  ውድ ደንበኞቻችን ከዚህ በታች ያስቀመጥንልዎ ለልጆችዎ የሚሆኑ ትምህርታዊ ...   \n",
      "\n",
      "                        date         sender  \n",
      "0  2024-09-03T09:44:53+00:00 -1001373889281  \n",
      "1  2024-08-29T11:28:56+00:00 -1001373889281  \n",
      "2  2024-08-23T03:50:23+00:00 -1001373889281  \n",
      "3  2024-08-21T07:34:19+00:00 -1001373889281  \n",
      "4  2024-08-20T07:08:19+00:00 -1001373889281  \n"
     ]
    }
   ],
   "source": [
    "import pandas as pd\n",
    "data = pd.read_csv('../data/rawmeneshayeofficial_data.csv')\n",
    "data_frame = pd.DataFrame(data)\n",
    "print(data_frame.head())"
   ]
  },
  {
   "cell_type": "code",
   "execution_count": 8,
   "id": "a208d932-3baf-46f2-b542-ee8015e7746a",
   "metadata": {},
   "outputs": [
    {
     "name": "stderr",
     "output_type": "stream",
     "text": [
      "[nltk_data] Downloading package punkt_tab to\n",
      "[nltk_data]     C:\\Users\\User\\AppData\\Roaming\\nltk_data...\n",
      "[nltk_data]   Unzipping tokenizers\\punkt_tab.zip.\n"
     ]
    },
    {
     "data": {
      "text/plain": [
       "True"
      ]
     },
     "execution_count": 8,
     "metadata": {},
     "output_type": "execute_result"
    }
   ],
   "source": [
    "import nltk\n",
    "nltk.download('punkt_tab')"
   ]
  },
  {
   "cell_type": "code",
   "execution_count": 9,
   "id": "6e155d38-0e4a-4760-8f41-54f38460b6f8",
   "metadata": {},
   "outputs": [
    {
     "data": {
      "text/html": [
       "<div>\n",
       "<style scoped>\n",
       "    .dataframe tbody tr th:only-of-type {\n",
       "        vertical-align: middle;\n",
       "    }\n",
       "\n",
       "    .dataframe tbody tr th {\n",
       "        vertical-align: top;\n",
       "    }\n",
       "\n",
       "    .dataframe thead th {\n",
       "        text-align: right;\n",
       "    }\n",
       "</style>\n",
       "<table border=\"1\" class=\"dataframe\">\n",
       "  <thead>\n",
       "    <tr style=\"text-align: right;\">\n",
       "      <th></th>\n",
       "      <th>message</th>\n",
       "      <th>date</th>\n",
       "      <th>sender</th>\n",
       "      <th>processed_message</th>\n",
       "    </tr>\n",
       "  </thead>\n",
       "  <tbody>\n",
       "    <tr>\n",
       "      <th>0</th>\n",
       "      <td>ተገጣጣሚዎቹን የእንጨት ብሎኮች ከመነሻዬ ሲሸምቱ ልጆችዎ ያለጥርጥር እየተ...</td>\n",
       "      <td>2024-09-03T09:44:53+00:00</td>\n",
       "      <td>-1001373889281</td>\n",
       "      <td>[ተገጣጣሚዎቹን, የእንጨት, ብሎኮች, ከመነሻዬ, ሲሸምቱ, ልጆችዎ, ያለጥ...</td>\n",
       "    </tr>\n",
       "    <tr>\n",
       "      <th>1</th>\n",
       "      <td>ስለ ህዋ ሳይንስ የሚያስተምሩ ትምህርታዊ መጫዎቻዎችን በተለያዩ አማራጮች ...</td>\n",
       "      <td>2024-08-29T11:28:56+00:00</td>\n",
       "      <td>-1001373889281</td>\n",
       "      <td>[ስለ, ህዋ, ሳይንስ, የሚያስተምሩ, ትምህርታዊ, መጫዎቻዎችን, በተለያዩ...</td>\n",
       "    </tr>\n",
       "    <tr>\n",
       "      <th>2</th>\n",
       "      <td>የካሪስማ ደስታ በመነሻዬ!!\\n\\nመነሻዬ ለልጆች የሚሆኑ ትምህርታዊ መጫዎ...</td>\n",
       "      <td>2024-08-23T03:50:23+00:00</td>\n",
       "      <td>-1001373889281</td>\n",
       "      <td>[የካሪስማ, ደስታ, በመነሻዬ, መነሻዬ, ለልጆች, የሚሆኑ, ትምህርታዊ, ...</td>\n",
       "    </tr>\n",
       "    <tr>\n",
       "      <th>3</th>\n",
       "      <td>አና በ swing car ደስታዋ እጥፍ ድርብ ሆኗል!!\\n👉 ያለምንም ኤሌክ...</td>\n",
       "      <td>2024-08-21T07:34:19+00:00</td>\n",
       "      <td>-1001373889281</td>\n",
       "      <td>[አና, ደስታዋ, እጥፍ, ድርብ, ሆኗል, ያለምንም, ኤሌክትሪክና, ቻረጅ,...</td>\n",
       "    </tr>\n",
       "    <tr>\n",
       "      <th>4</th>\n",
       "      <td>ውድ ደንበኞቻችን ከዚህ በታች ያስቀመጥንልዎ ለልጆችዎ የሚሆኑ ትምህርታዊ ...</td>\n",
       "      <td>2024-08-20T07:08:19+00:00</td>\n",
       "      <td>-1001373889281</td>\n",
       "      <td>[ውድ, ደንበኞቻችን, ከዚህ, በታች, ያስቀመጥንልዎ, ለልጆችዎ, የሚሆኑ,...</td>\n",
       "    </tr>\n",
       "  </tbody>\n",
       "</table>\n",
       "</div>"
      ],
      "text/plain": [
       "                                             message  \\\n",
       "0  ተገጣጣሚዎቹን የእንጨት ብሎኮች ከመነሻዬ ሲሸምቱ ልጆችዎ ያለጥርጥር እየተ...   \n",
       "1  ስለ ህዋ ሳይንስ የሚያስተምሩ ትምህርታዊ መጫዎቻዎችን በተለያዩ አማራጮች ...   \n",
       "2  የካሪስማ ደስታ በመነሻዬ!!\\n\\nመነሻዬ ለልጆች የሚሆኑ ትምህርታዊ መጫዎ...   \n",
       "3  አና በ swing car ደስታዋ እጥፍ ድርብ ሆኗል!!\\n👉 ያለምንም ኤሌክ...   \n",
       "4  ውድ ደንበኞቻችን ከዚህ በታች ያስቀመጥንልዎ ለልጆችዎ የሚሆኑ ትምህርታዊ ...   \n",
       "\n",
       "                        date         sender  \\\n",
       "0  2024-09-03T09:44:53+00:00 -1001373889281   \n",
       "1  2024-08-29T11:28:56+00:00 -1001373889281   \n",
       "2  2024-08-23T03:50:23+00:00 -1001373889281   \n",
       "3  2024-08-21T07:34:19+00:00 -1001373889281   \n",
       "4  2024-08-20T07:08:19+00:00 -1001373889281   \n",
       "\n",
       "                                   processed_message  \n",
       "0  [ተገጣጣሚዎቹን, የእንጨት, ብሎኮች, ከመነሻዬ, ሲሸምቱ, ልጆችዎ, ያለጥ...  \n",
       "1  [ስለ, ህዋ, ሳይንስ, የሚያስተምሩ, ትምህርታዊ, መጫዎቻዎችን, በተለያዩ...  \n",
       "2  [የካሪስማ, ደስታ, በመነሻዬ, መነሻዬ, ለልጆች, የሚሆኑ, ትምህርታዊ, ...  \n",
       "3  [አና, ደስታዋ, እጥፍ, ድርብ, ሆኗል, ያለምንም, ኤሌክትሪክና, ቻረጅ,...  \n",
       "4  [ውድ, ደንበኞቻችን, ከዚህ, በታች, ያስቀመጥንልዎ, ለልጆችዎ, የሚሆኑ,...  "
      ]
     },
     "execution_count": 9,
     "metadata": {},
     "output_type": "execute_result"
    }
   ],
   "source": [
    "import sys\n",
    "import os\n",
    "from pathlib import Path\n",
    "\n",
    "# Add project root to sys.path\n",
    "project_root = Path(os.getcwd()).parent\n",
    "sys.path.append(str(project_root))\n",
    "\n",
    "# Now import the Amharic preprocessing code\n",
    "from utils.amharic_preprocessing import preprocess_amharic_text\n",
    "\n",
    "# Load your Telegram data from CSV\n",
    "import pandas as pd\n",
    "df = pd.read_csv('../data/rawmeneshayeofficial_data.csv')\n",
    "\n",
    "# Apply the Amharic text preprocessing\n",
    "df['processed_message'] = df['message'].apply(preprocess_amharic_text)\n",
    "\n",
    "# Display the DataFrame with the processed messages\n",
    "df.head()"
   ]
  },
  {
   "cell_type": "code",
   "execution_count": 13,
   "id": "04a0ee4f-0472-457f-b515-eaa19257424d",
   "metadata": {},
   "outputs": [
    {
     "name": "stdout",
     "output_type": "stream",
     "text": [
      "Data has been saved to ../data/scraped_data.csv().\n"
     ]
    }
   ],
   "source": [
    "import csv\n",
    "\n",
    "filepath = '../data/scraped_data.csv()'\n",
    "with open(filepath, 'w', newline='', encoding='utf-8') as processed_data:\n",
    "    writer = csv.writer(processed_data)\n",
    "    \n",
    "    # Write the header as a list\n",
    "    writer.writerow(['processed_message'])\n",
    "    \n",
    "    # Write each processed message\n",
    "    for value in df['processed_message']:\n",
    "        writer.writerow([value])\n",
    "\n",
    "print(f\"Data has been saved to {filepath}.\")\n",
    "\n",
    "\n",
    "\n",
    "\n",
    "\n"
   ]
  },
  {
   "cell_type": "code",
   "execution_count": null,
   "id": "ade678f6-c66d-4b9d-9ee0-e2718130aa93",
   "metadata": {},
   "outputs": [],
   "source": []
  }
 ],
 "metadata": {
  "kernelspec": {
   "display_name": "Python 3 (ipykernel)",
   "language": "python",
   "name": "python3"
  },
  "language_info": {
   "codemirror_mode": {
    "name": "ipython",
    "version": 3
   },
   "file_extension": ".py",
   "mimetype": "text/x-python",
   "name": "python",
   "nbconvert_exporter": "python",
   "pygments_lexer": "ipython3",
   "version": "3.12.6"
  }
 },
 "nbformat": 4,
 "nbformat_minor": 5
}
